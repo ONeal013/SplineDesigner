{
 "cells": [
  {
   "cell_type": "markdown",
   "metadata": {
    "collapsed": false
   },
   "source": [
    "\n",
    "\n",
    "### Contexte\n",
    "\n",
    "Le but de ce projet est de reproduire un cercle de culture (\"Crop circle\" : Un vaste motif ou ensemble de motifs géométriques réalisé dans un champ de céréales). Un script Python a été développé en utilisant une approche orientée objet et en faisant appel aux bibliothèques NumPy et Matplotlib. Dans un premier temps, le choix du motif à reproduire ainsi que les objectifs du script ont été définis. Ensuite, les classes de base (\"Interval\", \"Renderable\", \"Transformation\", etc.) ont été implémentées, suivies des classes de fonction (\"CoupleSplineFunction\", \"PolynomialFunction\") et des classes de transformations (\"Rotation\" et \"Translation\"). Enfin, la classe \"Curve\" a été conçue pour gérer le rendu des objets \"Renderable\" avec Matplotlib, ainsi que la logique pour assembler toutes les formes et les dessiner.\n",
    "\n",
    "### Objectif\n",
    "\n",
    "Le but est de recréer le motif en implémentant l'interpolation de Lagrange, les splines cubiques et les courbes de Bézier en Python à l'aide des bibliothèques NumPy et Matplotlib. Ce projet met en avant l'utilisation d'algorithmes mathématiques pour la création et la manipulation précise de formes géométriques complexes, tout en exploitant les capacités de visualisation graphique.\n"
   ]
  },
  {
   "cell_type": "code",
   "execution_count": 2,
   "metadata": {
    "collapsed": false,
    "ExecuteTime": {
     "end_time": "2024-12-19T18:22:48.826576Z",
     "start_time": "2024-12-19T18:22:48.631202300Z"
    }
   },
   "outputs": [],
   "source": [
    "import warnings\n",
    "\n",
    "from typing import Any\n",
    "\n",
    "import matplotlib.pyplot as plt\n",
    "import numpy as np\n",
    "\n",
    "from numpy.linalg import solve\n",
    "from scipy.special import binom"
   ]
  },
  {
   "cell_type": "code",
   "execution_count": 3,
   "metadata": {
    "ExecuteTime": {
     "end_time": "2024-12-19T18:22:48.837344300Z",
     "start_time": "2024-12-19T18:22:48.639997400Z"
    }
   },
   "outputs": [],
   "source": [
    "class Interval:\n",
    "    start: float = None # Début de l'intervalle\n",
    "    end: float = None # Fin de l'intervalle\n",
    "    \"\"\"Taille du pas pour diviser l'intervalle à partir de la limite inférieure\"\"\"\n",
    "    step: float = None\n",
    "    \"\"\"Nombre de parties pour diviser l'intervalle\"\"\"\n",
    "    slice: float = None\n",
    "    \n",
    "    def __init__(self, start=0, end=50, slice=None, step=None) -> None:\n",
    "        assert bool(slice) ^ bool(step), 'Soit slice soit step doit être défini'\n",
    "        assert start is not end, 'start et end doivent être différents'\n",
    "        self.start = start if start < end else end\n",
    "        self.end = end if end > start else start\n",
    "        self.step = step\n",
    "        self.slice = slice\n",
    "\n",
    "    @property\n",
    "    def value(self):\n",
    "        if self.slice:\n",
    "            return np.linspace(self.start, self.end, self.slice)\n",
    "        elif self.step:\n",
    "            if self.step > self.end - self.start:\n",
    "                warnings.warn('le pas fourni est plus grand que la taille de l\\'intervalle')\n",
    "            if (self.end - self.start) % self.step != 0:\n",
    "                warnings.warn('la limite inférieure de l\\'intervalle est tronquée')\n",
    "            return np.arange(self.start, self.end, self.step)\n",
    "        else:\n",
    "            return np.array((self.start, self.end))"
   ]
  },
  {
   "cell_type": "code",
   "execution_count": 4,
   "metadata": {
    "ExecuteTime": {
     "end_time": "2024-12-19T18:22:48.978655500Z",
     "start_time": "2024-12-19T18:22:48.653427100Z"
    }
   },
   "outputs": [
    {
     "name": "stdout",
     "output_type": "stream",
     "text": [
      "[ 0 10 20 30 40]\n"
     ]
    }
   ],
   "source": [
    "# Tester l'intervalle\n",
    "interval = Interval(start=0, end=50, step=10)\n",
    "print(interval.value)"
   ]
  },
  {
   "cell_type": "markdown",
   "metadata": {},
   "source": [
    "## Classe Renderable\n",
    "Représente tout object pouvant etre affiché et de ce fait possedant une liste de coordonnées de points"
   ]
  },
  {
   "cell_type": "code",
   "execution_count": 5,
   "metadata": {
    "ExecuteTime": {
     "end_time": "2024-12-19T18:22:49.005171800Z",
     "start_time": "2024-12-19T18:22:48.669054Z"
    }
   },
   "outputs": [],
   "source": [
    "class Renderable:\n",
    "    def __init__(self, style: list = None) -> None:\n",
    "        self.style = style\n",
    "\n",
    "    @property\n",
    "    def vx(self):\n",
    "        pass\n",
    "\n",
    "    @property\n",
    "    def vy(self):\n",
    "        pass"
   ]
  },
  {
   "cell_type": "markdown",
   "metadata": {},
   "source": [
    "## Création de la classe transformation Renderable\n",
    "Représente les transformations géometriques applicables aux fonctions"
   ]
  },
  {
   "cell_type": "code",
   "execution_count": 6,
   "metadata": {
    "ExecuteTime": {
     "end_time": "2024-12-19T18:22:49.030179Z",
     "start_time": "2024-12-19T18:22:48.681899500Z"
    }
   },
   "outputs": [],
   "source": [
    "class Tranformation(Renderable):\n",
    "    def __init__(self, function: Renderable, style: list = None):\n",
    "        self.function = function  # Initialiser l'attribut function avec l'objet Renderable passé en paramètre\n",
    "        super().__init__(style)  # Appeler le constructeur de la classe parente Renderable"
   ]
  },
  {
   "cell_type": "markdown",
   "metadata": {},
   "source": [
    "## Création de la classe rotation Renderable"
   ]
  },
  {
   "cell_type": "code",
   "execution_count": 7,
   "metadata": {
    "ExecuteTime": {
     "end_time": "2024-12-19T18:22:49.042175300Z",
     "start_time": "2024-12-19T18:22:48.696438700Z"
    }
   },
   "outputs": [],
   "source": [
    "class Rotation(Tranformation):\n",
    "\n",
    "    def __init__(self, function: Renderable, angle: float, style: list = None):\n",
    "        self.angle = angle # Initialiser l'attribut angle avec la valeur passée en paramètre\n",
    "        self.function = function # Initialiser l'attribut function avec l'objet Renderable passé en paramètre\n",
    "        super().__init__(function=function, style=style) # Appeler le constructeur de la classe parente Tranformation\n",
    "\n",
    "    @property\n",
    "    def vx(self):\n",
    "        # Calculer les nouvelles coordonnées x après rotation\n",
    "        return [x * np.cos(self.angle) - y * np.sin(self.angle) for x, y in zip(self.function.vx, self.function.vy)]\n",
    "    \n",
    "    @property\n",
    "    def vy(self):\n",
    "        # Calculer les nouvelles coordonnées y après rotation\n",
    "        return [x * np.sin(self.angle) + y * np.cos(self.angle) for x, y in zip(self.function.vx, self.function.vy)]"
   ]
  },
  {
   "cell_type": "markdown",
   "metadata": {},
   "source": [
    "## Création de la classe translation Renderable"
   ]
  },
  {
   "cell_type": "code",
   "execution_count": 8,
   "metadata": {
    "ExecuteTime": {
     "end_time": "2024-12-19T18:22:49.066173900Z",
     "start_time": "2024-12-19T18:22:48.710652500Z"
    }
   },
   "outputs": [],
   "source": [
    "class Translation(Renderable):\n",
    "\n",
    "    def __init__(self, function: Renderable, vector: tuple[float, float], style: list = None):\n",
    "        self.vector = vector # Initialiser l'attribut vector avec le tuple passé en paramètre\n",
    "        self.function = function # Initialiser l'attribut function avec l'objet Renderable passé en paramètre\n",
    "        super().__init__(style) # Appeler le constructeur de la classe parente Renderable\n",
    "\n",
    "    @property\n",
    "    def vx(self):\n",
    "        # Ajouter la composante x du vecteur de translation à chaque coordonnée x\n",
    "        return [x + self.vector[0] for x in self.function.vx]\n",
    "\n",
    "    @property\n",
    "    def vy(self):\n",
    "        # Ajouter la composante y du vecteur de translation à chaque coordonnée y\n",
    "        return [y + self.vector[1] for y in self.function.vy]"
   ]
  },
  {
   "cell_type": "markdown",
   "metadata": {},
   "source": [
    "## Création de la classe fonction Renderable\n",
    "Représente la classe de base des fonctions\n",
    "Elle est chargée de récupérer les coordonnées des points par lesquels doit passer la courbe, de générer la matrice de résolution des equations et de générer la fonction"
   ]
  },
  {
   "cell_type": "code",
   "execution_count": 9,
   "metadata": {
    "ExecuteTime": {
     "end_time": "2024-12-19T18:22:49.143727100Z",
     "start_time": "2024-12-19T18:22:48.728994700Z"
    }
   },
   "outputs": [],
   "source": [
    "class Function(Renderable):\n",
    "    f: callable = None\n",
    "\n",
    "    def __init__(self, init_vx: list[float], init_vy: list[float], interval: Interval = None, style: list = None):\n",
    "        self.init_vx = init_vx\n",
    "        self.init_vy = init_vy\n",
    "        # Initialiser l'attribut interval avec l'objet Interval passé en paramètre, ou créer un nouvel objet Interval si aucun n'est fourni\n",
    "        self.interval = interval if interval else Interval(np.min(init_vx), np.max(init_vx), slice=200)\n",
    "        self.f = self.build_f() # Construire la fonction f\n",
    "        super().__init__(style) \n",
    "\n",
    "    def gen_A(self):\n",
    "        pass # Cette méthode est destinée à générer une matrice A (à implémenter)\n",
    "\n",
    "    def build_f(self):\n",
    "        pass # Cette méthode est destinée à construire la fonction f (à implémenter)\n",
    "\n",
    "    def __call__(self, x) -> Any:\n",
    "        # Permet d'appeler l'objet comme une fonction et retourne le résultat de l'appel de la fonction f avec x en argument.\n",
    "        return self.f(x)\n",
    "    \n",
    "    @property\n",
    "    def vx(self):\n",
    "        # Retourne les valeurs x de l'intervalle\n",
    "        return self.interval.value\n",
    "\n",
    "    @property\n",
    "    def vy(self):\n",
    "        # Retourne les valeurs y calculées en appelant la fonction f pour chaque valeur x\n",
    "        return [self.f(x) for x in self.vx]"
   ]
  },
  {
   "cell_type": "markdown",
   "metadata": {},
   "source": [
    "## Génération de Splines cubiques avec  2 points"
   ]
  },
  {
   "cell_type": "code",
   "execution_count": 10,
   "metadata": {
    "ExecuteTime": {
     "end_time": "2024-12-19T18:22:49.144705800Z",
     "start_time": "2024-12-19T18:22:48.746567400Z"
    }
   },
   "outputs": [],
   "source": [
    "class CoupleSplineFunction(Function):\n",
    "    def __init__(self, init_vx: tuple[float, float], init_vy: tuple[float, float], valpha: tuple[float, float] = (10, 10), interval: Interval = None, style: list = None):\n",
    "        self.valpha = valpha\n",
    "        super().__init__(init_vx=init_vx, init_vy=init_vy, interval=interval, style=style)\n",
    "\n",
    "    def gen_A(self):\n",
    "        X = self.init_vx\n",
    "        # Générer et retourner une matrice A basée sur les valeurs initiales de x\n",
    "        return np.array([[1, X[0], X[0]**2, X[0]**3],\n",
    "                         [1, X[1], X[1]**2, X[1]**3],\n",
    "                         [0, 1, 2*X[0], 3*X[0]**2],\n",
    "                         [0, 1, 2*X[1], 3*X[1]**2]])\n",
    "\n",
    "    def build_f(self):\n",
    "        # Résoudre le système d'équations linéaires pour obtenir les coefficients de la fonction spline\n",
    "        coef = solve(self.gen_A(), self.init_vy + self.valpha)\n",
    "        # Construire et retourner la fonction spline en utilisant les coefficients obtenus\n",
    "        return lambda x: coef[0] + coef[1]*x + coef[2]*x**2 + coef[3]*x**3"
   ]
  },
  {
   "cell_type": "markdown",
   "metadata": {},
   "source": [
    "## Génération d'Interpolation de Lagrange"
   ]
  },
  {
   "cell_type": "code",
   "execution_count": 11,
   "metadata": {
    "ExecuteTime": {
     "end_time": "2024-12-19T18:22:49.145706500Z",
     "start_time": "2024-12-19T18:22:48.767314700Z"
    }
   },
   "outputs": [],
   "source": [
    "class PolynomialFunction(Function):\n",
    "\n",
    "    def __init__(self, init_vx, init_vy, interval=None, style: list = None):\n",
    "        super().__init__(init_vx=init_vx, init_vy=init_vy, interval=interval, style=style) # Appeler le constructeur de la classe parente Function\n",
    "\n",
    "    def gen_A(self):\n",
    "        vx = self.init_vx # Récupérer les valeurs initiales de x\n",
    "        def reckon_row(x, size):\n",
    "            row = []\n",
    "            for i in range(1, size+1):\n",
    "                row.append(x**i) # Ajouter x à la puissance i à la ligne\n",
    "            return row\n",
    "        base_degree = len(vx) # Calculer le degré de base en fonction de la longueur de vx\n",
    "        # Générer et retourner la matrice A en calculant une ligne pour chaque valeur de x\n",
    "        return [reckon_row(x, base_degree) for x in vx]\n",
    "\n",
    "\n",
    "    def build_f(self):\n",
    "        # Résoudre le système d'équations linéaires pour obtenir les coefficients du polynôme\n",
    "        coef = solve(np.array(self.gen_A()), np.array(self.init_vy))\n",
    "        def reckon(x, degree = 0., a = 0.):\n",
    "            return a*x**degree # Calculer a*x à la puissance degree\n",
    "        def f(x):\n",
    "            # Calculer la somme des termes du polynôme pour la valeur de x donnée\n",
    "            return np.sum([reckon(x, degree=index + 1, a=a) for index, a in enumerate(coef)])\n",
    "        return f # Retourner la fonction polynomiale construite"
   ]
  },
  {
   "cell_type": "markdown",
   "metadata": {},
   "source": [
    "## Génération de Courbes de Bezier"
   ]
  },
  {
   "cell_type": "code",
   "execution_count": 12,
   "metadata": {
    "ExecuteTime": {
     "end_time": "2024-12-19T18:22:49.147705200Z",
     "start_time": "2024-12-19T18:22:48.786229700Z"
    }
   },
   "outputs": [],
   "source": [
    "class BezierFunction(Function):\n",
    "\n",
    "    def build_f(self):\n",
    "        Nb = len(self.init_vx)\n",
    "        def Bezier(t):\n",
    "            C = np.array([0,0])\n",
    "            for i in range(0,Nb):\n",
    "                C = C + binom(Nb-1, i)*t**i*(1 - t)**(Nb-1 - i) * \\\n",
    "                    np.array([self.init_vx[i], self.init_vy[i]])\n",
    "            return C\n",
    "        return Bezier\n",
    "    \n",
    "    @property\n",
    "    def vgamma(self):\n",
    "        return np.array([self(t) for t in self.vt]).transpose()\n",
    "\n",
    "    @property\n",
    "    def vt(self):\n",
    "        return np.linspace(0,1,100)\n",
    "\n",
    "    @property\n",
    "    def vx(self):\n",
    "        return self.vgamma[0]\n",
    "    \n",
    "    @property\n",
    "    def vy(self):\n",
    "        return self.vgamma[1]\n"
   ]
  },
  {
   "cell_type": "markdown",
   "metadata": {},
   "source": [
    "## Génération tracer une courbe paramétrée"
   ]
  },
  {
   "cell_type": "code",
   "execution_count": 13,
   "metadata": {
    "ExecuteTime": {
     "end_time": "2024-12-19T18:22:49.148707300Z",
     "start_time": "2024-12-19T18:22:48.796754500Z"
    }
   },
   "outputs": [],
   "source": [
    "class VariableFunction(Renderable):\n",
    "\n",
    "    def __init__(self, x_builder: callable, y_builder: callable, interval: Interval = None, style: list = None) -> None:\n",
    "        self.x_builder = x_builder\n",
    "        self.y_builder = y_builder\n",
    "        self.interval = interval\n",
    "        super().__init__(style) # Appeler le constructeur de la classe parente Renderable\n",
    "\n",
    "    def __call__(self, x) -> Any:\n",
    "        # Permet d'appeler l'objet comme une fonction. Retourne le résultat de l'appel de la fonction y_builder avec x en argument.\n",
    "        return self.y_builder(x)\n",
    "\n",
    "    @property\n",
    "    def vx(self):\n",
    "        # Retourne les valeurs x calculées en appelant la fonction x_builder pour chaque valeur t dans l'intervalle\n",
    "        return [self.x_builder(t) for t in self.interval.value]\n",
    "    \n",
    "    @property\n",
    "    def vy(self):\n",
    "        # Retourne les valeurs y calculées en appelant la fonction y_builder pour chaque valeur t dans l'intervalle\n",
    "        return [self.y_builder(t) for t in self.interval.value]"
   ]
  },
  {
   "cell_type": "markdown",
   "metadata": {},
   "source": [
    "## Cas particuliers des courbes paramétrées"
   ]
  },
  {
   "cell_type": "markdown",
   "metadata": {},
   "source": [
    "### Courbe Spirale\n",
    "\n",
    "C'est un cas particulier des courbes paramétrées qui, dans notre cas, servira à dessiner des cercles lorsque le rayon est fixe et des spirales lorsque le rayon est variable."
   ]
  },
  {
   "cell_type": "code",
   "execution_count": 14,
   "metadata": {
    "ExecuteTime": {
     "end_time": "2024-12-19T18:22:49.155707900Z",
     "start_time": "2024-12-19T18:22:48.809480400Z"
    }
   },
   "outputs": [],
   "source": [
    "class SpinFunction(VariableFunction):\n",
    "\n",
    "    def __init__(self, r_builder: callable, interval: Interval = None, style: list = None) -> None:\n",
    "        self.r_builder = r_builder\n",
    "        # Définir la fonction x_builder comme le produit de r_builder(t) et du cosinus de t\n",
    "        x_builder = lambda t: r_builder(t)*np.cos(t)\n",
    "        # Définir la fonction y_builder comme le produit de r_builder(t) et du sinus de t\n",
    "        y_builder = lambda t: r_builder(t)*np.sin(t)\n",
    "        # Appeler le constructeur de la classe parente VariableFunction avec x_builder, y_builder et l'intervalle donné\n",
    "        # Si aucun intervalle n'est fourni, utiliser un nouvel objet Interval allant de 0 à 20*pi avec 500 points\n",
    "        super().__init__(\n",
    "            x_builder=x_builder,\n",
    "            y_builder=y_builder,\n",
    "            interval=interval if interval else Interval(0, 20*np.pi, slice=500),\n",
    "            style=style,\n",
    "        )"
   ]
  },
  {
   "cell_type": "markdown",
   "metadata": {},
   "source": [
    "## Class Courbe\n",
    "Représente le rendu final\n",
    "Elle permet d'afficher toutes les fonctions (Renderable) qui lui sont passés en paramètre"
   ]
  },
  {
   "cell_type": "code",
   "execution_count": 15,
   "metadata": {
    "ExecuteTime": {
     "end_time": "2024-12-19T18:22:49.157727400Z",
     "start_time": "2024-12-19T18:22:48.830570600Z"
    }
   },
   "outputs": [],
   "source": [
    "class Curve:\n",
    "\n",
    "    def __init__(self, functions: list[Renderable] = [], styles: list[list]=[['r', '-', '', ''], ['g', ':', '', ''], ['b', '-', '', ''], ['b', ':', '', '']]) -> None:\n",
    "        self.functions = functions # Initialiser l'attribut functions avec la liste d'objets Renderable passée en paramètre\n",
    "        self.styles = styles # Initialiser l'attribut styles avec la liste de styles passée en paramètre\n",
    "\n",
    "\n",
    "    def render(self):\n",
    "        len_styles = len(self.styles) # Calculer la longueur de la liste de styles\n",
    "\n",
    "        for index, f in enumerate(self.functions): # Pour chaque fonction dans la liste\n",
    "            X = f.vx # Récupérer les valeurs x\n",
    "            Y = f.vy # Récupérer les valeurs y\n",
    "            style = f.style if f.style else self.styles[index % len_styles] # Récupérer le style correspondant à la fonction\n",
    "            plt.plot(X, Y, color=style[0], linestyle=style[1], marker=style[2]) # Tracer la fonction\n",
    "            if style[3]:\n",
    "                plt.fill_between(np.min(X), np.min(Y), np.max(Y), interpolate=True)\n",
    "        plt.axis('equal') # Régler les axes pour qu'ils aient la même échelle"
   ]
  },
  {
   "cell_type": "markdown",
   "metadata": {},
   "source": [
    "## Utilisation des Splines cubiques à 2 points\n",
    "Pour la création des motifs à l'intérieur du crop circle"
   ]
  },
  {
   "cell_type": "code",
   "execution_count": 16,
   "metadata": {
    "ExecuteTime": {
     "end_time": "2024-12-19T18:22:49.158706Z",
     "start_time": "2024-12-19T18:22:48.843469800Z"
    }
   },
   "outputs": [],
   "source": [
    "# Création d'un arc de cercle partant du centre\n",
    "arc0 = CoupleSplineFunction(\n",
    "    init_vx=(0, 15),\n",
    "    init_vy=(0, 0),\n",
    "    valpha=(1, -1),\n",
    ")\n",
    "# Création du second arc de cercle se terminant avec le dernier point de arc0\n",
    "arc1 = CoupleSplineFunction(\n",
    "    init_vx=(0, 26.5),\n",
    "    init_vy=(0, 0),\n",
    "    valpha=(1, -1),\n",
    ")\n",
    "# Création du troisième arc de cercle partant du premiere point de arc1 pour finir sur un côté de l'heptagone\n",
    "arc2 = CoupleSplineFunction(\n",
    "    init_vx=(0, 52),\n",
    "    init_vy=(0, 0),\n",
    "    valpha=(1.5, -1.5),\n",
    ")\n",
    "\n",
    "# Récupérer de arc0, arc1 et arc2 pour former le bras allant du centre à un côté de l'heptagone\n",
    "# La translation et rotation servent à ce que chaque arc se rejoigne par des points précis et forment un bras\n",
    "wave_shape = [\n",
    "    Translation(Rotation(arc0, angle=-np.pi/6),vector=(0, 5)),\n",
    "    Translation(Rotation(arc1, angle=-np.pi/3),vector=(0, 20)),\n",
    "    Translation(Rotation(arc2, angle=-np.pi/3),vector=(0, 20)),\n",
    "]\n",
    "\n",
    "# Applique une translation sur chaque composante (fonction) contenue dans une forme (liste de fonctions)\n",
    "def translate_shape(shape, vector):\n",
    "    return [ Translation(func, vector=vector) for func in shape]\n",
    "\n",
    "# Applique une rotation sur chaque composante (fonction) contenue dans une forme (liste de fonctions)\n",
    "def rotate_shape(shape, angle):\n",
    "    return [ Rotation(func, angle=angle) for func in shape]\n",
    "\n",
    "# Duplique les bras et appliques les rotations\n",
    "waves = []\n",
    "\n",
    "# Pour une intervalle fourni, 0 à 2*pi avec 8 points\n",
    "# permet d'afficher les 7 bras avec un decalage de 45°\n",
    "for angle in np.linspace(0, 2*np.pi, 8):\n",
    "    waves += rotate_shape(wave_shape, angle)"
   ]
  },
  {
   "cell_type": "code",
   "execution_count": 17,
   "metadata": {
    "ExecuteTime": {
     "end_time": "2024-12-19T18:22:49.158706Z",
     "start_time": "2024-12-19T18:22:48.867059900Z"
    }
   },
   "outputs": [],
   "source": [
    "# Création des décorations de cercle au sommet de l'heptagone\n",
    "# Cercle au centre de la décoration de rayon 1\n",
    "main_circle = SpinFunction(\n",
    "    r_builder=lambda r: 2,\n",
    "    interval=Interval(start=0, end=2*np.pi, slice=100),\n",
    ")\n",
    "\n",
    "# Cercles de décoration de rayon 0.75 au dessus du main_circle\n",
    "circle0 = Translation(\n",
    "    SpinFunction(\n",
    "    r_builder=lambda r: 1.5,\n",
    "    interval=Interval(start=0, end=2*np.pi, slice=100),\n",
    "),\n",
    "vector=(0, 6),\n",
    ")\n",
    "\n",
    "# Cercles de décoration de rayon 0.5 au dessus du circle0\n",
    "circle1 = Translation(\n",
    "    SpinFunction(\n",
    "    r_builder=lambda r: 1,\n",
    "    interval=Interval(start=0, end=2*np.pi, slice=100),\n",
    "),\n",
    "    vector=(0, 10),\n",
    ")\n",
    "\n",
    "# Régroupement des cercles de décoration circle0 et circle1\n",
    "arm_shape = [circle0, circle1]\n",
    "\n",
    "# Duplication des cercles de décoration et application des rotations\n",
    "arms = []\n",
    "# Pour une intervalle fourni, 0 à 2*pi avec 4 points\n",
    "# Permet d'afficher les 3 bras avec un decalage de 90°\n",
    "for angle in np.linspace(0, 2*np.pi, 4):\n",
    "    arms += rotate_shape(arm_shape, angle)\n",
    "\n",
    "# Régroupement des cercles de décoration main_circle et arms du centre vers un sommet de l'heptagone\n",
    "decoration_circle_shape = [ Translation(shape, (0, 46)) for shape in ([main_circle]+ arms)]\n",
    "\n",
    "# Duplication des cercles de décoration et application des rotations\n",
    "decoration_circles = []\n",
    "\n",
    "# Pour une intervalle fourni, 0 à 2*pi avec 8 points\n",
    "# Permet d'afficher les 7 bras avec un decalage de 45°\n",
    "for angle in np.linspace(0, 2*np.pi, 8):\n",
    "    decoration_circles += rotate_shape(decoration_circle_shape, angle)"
   ]
  },
  {
   "cell_type": "code",
   "execution_count": 18,
   "metadata": {
    "ExecuteTime": {
     "end_time": "2024-12-19T18:22:49.159707300Z",
     "start_time": "2024-12-19T18:22:48.882389200Z"
    }
   },
   "outputs": [],
   "source": [
    "# Création de la forme finale\n",
    "# Régroupement des bras et des cercles de décoration\n",
    "forms = [\n",
    "    # Grand cercle intérieur\n",
    "    SpinFunction(\n",
    "        r_builder=lambda r: 36,\n",
    "        interval=Interval(start=0, end=2*np.pi, slice=500),\n",
    "    ),\n",
    "    # Petit heptagone intérieur\n",
    "    Rotation(\n",
    "        SpinFunction(\n",
    "            r_builder=lambda r: 5,\n",
    "            interval=Interval(start=0, end=2*np.pi, slice=8),\n",
    "        ),\n",
    "        angle=np.pi / 2,\n",
    "    ),\n",
    "    # Grand heptagone extérieur\n",
    "    Rotation(\n",
    "        SpinFunction(\n",
    "            r_builder=lambda r: 40,\n",
    "            interval=Interval(start=0, end=2*np.pi, slice=8),\n",
    "        ),\n",
    "        angle=np.pi / 2,\n",
    "    ),\n",
    "]"
   ]
  },
  {
   "cell_type": "code",
   "execution_count": 19,
   "metadata": {
    "ExecuteTime": {
     "end_time": "2024-12-19T18:22:49.159707300Z",
     "start_time": "2024-12-19T18:22:48.887468900Z"
    }
   },
   "outputs": [],
   "source": [
    "base_tentacle = BezierFunction(\n",
    "    init_vx=np.array([0, -4, 9, -28, 50, -28, 0, 5, -27, 50, -27, 13, -1, 3]) * 4,\n",
    "    init_vy=np.array([0, 3, 4, 5, 8, 11, 20, 20, 11, 8, 5, 4, 3, 0]) * 4,\n",
    ")\n",
    "\n",
    "tentacle = Translation(Rotation(base_tentacle, -np.pi / 8), (12.5, 34))\n",
    "\n",
    "tentacles = []\n",
    "# Pour une intervalle fourni, 0 à 2*pi avec 8 points\n",
    "# Permet d'afficher les 7 tentacules avec un decalage de 45°\n",
    "for angle in np.linspace(0, 2*np.pi, 8):\n",
    "    tentacles += rotate_shape([tentacle], angle)"
   ]
  },
  {
   "cell_type": "markdown",
   "metadata": {},
   "source": [
    "## Génération de test\n",
    "C'est ici que chaqu'une de nos classes ont été testé.\n",
    "\n",
    "Cependant, le test de l'interpolation de lagrange à été effectué mais n'a pas été concluant.\n",
    "Il n'aura finalement pas été utilisé pour notre forme final et à été remplacer par des splines à 2 points."
   ]
  },
  {
   "cell_type": "code",
   "execution_count": 20,
   "metadata": {
    "ExecuteTime": {
     "end_time": "2024-12-19T18:22:49.159707300Z",
     "start_time": "2024-12-19T18:22:48.904810Z"
    }
   },
   "outputs": [],
   "source": [
    "# Test de chaque class fonction créée pour vérifier si elle fonctionne correctement\n",
    "test_functions = [\n",
    "    # PolynomialFunction(init_vx = [2, 8, 10, 13, 17, 18, 19, 21], init_vy = [2, 5, -2, 8, 4, 0, 1, 5]),\n",
    "\n",
    "    # PolynomialFunction(init_vx = [2, 8, 17, 18, 19, 21], init_vy = [-2, 8, 4, 0, 1, 5]),\n",
    "\n",
    "    # PolynomialFunction(init_vx = [2, 8, 17],init_vy = [-2, 8, 4]),\n",
    "\n",
    "    # SpinFunction(r_builder=lambda r: r+1),\n",
    "\n",
    "    # Translation(SpinFunction(r_builder=lambda r: 1), (5, 5)),\n",
    "    # SpinFunction(r_builder=lambda r: 1),\n",
    "    # SpinFunction(r_builder=lambda r: 1, interval=Interval(start=0, end=2*np.pi, slice=8)),\n",
    "    # SpinFunction(r_builder=lambda r: 1, interval=Interval(start=0, end=2*np.pi, slice=8)).apply_rotation(-np.pi / 2),\n",
    "    # Rotation(CoupleSplineFunction(init_vx=(0, 5), init_vy=(0, 0), valpha=(1, -1)), -np.pi / 3),\n",
    "    # BezierFunction(init_vx = [0, 6, -6, 2, -2, 9, 6, 3], init_vy = [0, 4, 12, 25, 14, 6, 4, 0]),\n",
    "]"
   ]
  },
  {
   "cell_type": "code",
   "execution_count": 21,
   "metadata": {
    "ExecuteTime": {
     "end_time": "2024-12-19T18:22:50.140062400Z",
     "start_time": "2024-12-19T18:22:48.922652Z"
    }
   },
   "outputs": [
    {
     "data": {
      "text/plain": "<Figure size 640x480 with 1 Axes>",
      "image/png": "[encoded data removed]"
     },
     "metadata": {},
     "output_type": "display_data"
    }
   ],
   "source": [
    "# Fonctions qui ajout des formes, ondes et cercles de décoration\n",
    "functions = test_functions + forms + waves + decoration_circles + tentacles\n",
    "\n",
    "# Création de la courbe avec les fonctions et styles définis\n",
    "curve = Curve(functions=functions, styles=[((0.1, 0.2, 0.3), '-', '', '')],)\n",
    "\n",
    "# Afficher le resultat finale de toutes les fonctions\n",
    "curve.render()"
   ]
  },
  {
   "cell_type": "code",
   "execution_count": 21,
   "outputs": [],
   "source": [],
   "metadata": {
    "collapsed": false,
    "ExecuteTime": {
     "end_time": "2024-12-19T18:22:50.142061900Z",
     "start_time": "2024-12-19T18:22:50.137125400Z"
    }
   }
  }
 ],
 "metadata": {
  "kernelspec": {
   "display_name": "Python 3",
   "language": "python",
   "name": "python3"
  },
  "language_info": {
   "codemirror_mode": {
    "name": "ipython",
    "version": 3
   },
   "file_extension": ".py",
   "mimetype": "text/x-python",
   "name": "python",
   "nbconvert_exporter": "python",
   "pygments_lexer": "ipython3",
   "version": "3.11.5"
  }
 },
 "nbformat": 4,
 "nbformat_minor": 2
}
